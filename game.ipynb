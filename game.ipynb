{
 "cells": [
  {
   "cell_type": "code",
   "execution_count": 1,
   "metadata": {},
   "outputs": [],
   "source": [
    "import random\n",
    "\n",
    "from card import Card, TressetteDeck, StatefulCard\n",
    "from tressette import Tressette\n",
    "from player import Player\n",
    "\n",
    "import constants as c\n",
    "import print_utilities as pu"
   ]
  },
  {
   "attachments": {},
   "cell_type": "markdown",
   "metadata": {},
   "source": [
    "## Simulation of hand"
   ]
  },
  {
   "cell_type": "code",
   "execution_count": 4,
   "metadata": {},
   "outputs": [
    {
     "name": "stdout",
     "output_type": "stream",
     "text": [
      "4s 7s Qs Ks 2s \n",
      "5s 6s Js As 3s \n"
     ]
    }
   ],
   "source": [
    "# initialize game\n",
    "t = Tressette()\n",
    "\n",
    "p1 = t.players[0]\n",
    "p2 = t.players[1]\n",
    "\n",
    "c1 = Card(\"3\", c.SPADES)\n",
    "c2 = Card(\"2\", c.SPADES)\n",
    "c3 = Card(\"A\", c.SPADES)\n",
    "c4 = Card(\"K\", c.SPADES)\n",
    "c5 = Card(\"Q\", c.SPADES)\n",
    "c6 = Card(\"J\", c.SPADES)\n",
    "c7 = Card(\"7\", c.SPADES)\n",
    "c8 = Card(\"6\", c.SPADES)\n",
    "c9 = Card(\"5\", c.SPADES)\n",
    "c10 = Card(\"4\", c.SPADES)\n",
    "\n",
    "cards = [c1, c2, c3, c4, c5, c6, c7, c8, c9, c10]\n",
    "\n",
    "random.shuffle(cards)\n",
    "\n",
    "for card in cards[:5]:\n",
    "    p1.receive_card(card)\n",
    "    p2.add_opponent_card(card)\n",
    "\n",
    "for card in cards[5:]:\n",
    "    p2.receive_card(card)\n",
    "    p1.add_opponent_card(card)\n",
    "\n",
    "p1.show_hand()\n",
    "p2.show_hand()"
   ]
  },
  {
   "cell_type": "code",
   "execution_count": 5,
   "metadata": {},
   "outputs": [
    {
     "data": {
      "text/plain": [
       "([2.666, 0.9990000000000001], [Js, 2s, Ks, 3s, 6s, Qs, 7s, As, 5s, 4s])"
      ]
     },
     "execution_count": 5,
     "metadata": {},
     "output_type": "execute_result"
    }
   ],
   "source": [
    "scores, sequence = t.run(t.players[1].hand.copy(), t.players[0].hand.copy(), 0, 0)\n",
    "\n",
    "# print scores[0] with fractions of 3. example: 2.333333 --> 2 1/3\n"
   ]
  },
  {
   "attachments": {},
   "cell_type": "markdown",
   "metadata": {},
   "source": [
    "## Example of game"
   ]
  },
  {
   "cell_type": "code",
   "execution_count": 4,
   "metadata": {},
   "outputs": [
    {
     "name": "stdout",
     "output_type": "stream",
     "text": [
      "\n"
     ]
    }
   ],
   "source": [
    "# initialize game\n",
    "t = Tressette()\n",
    "\n",
    "# create deck\n",
    "t.deck.create_deck()\n"
   ]
  },
  {
   "cell_type": "code",
   "execution_count": 3,
   "metadata": {},
   "outputs": [
    {
     "name": "stdout",
     "output_type": "stream",
     "text": [
      "2 1/3\n"
     ]
    }
   ],
   "source": []
  },
  {
   "cell_type": "code",
   "execution_count": null,
   "metadata": {},
   "outputs": [],
   "source": [
    "\n"
   ]
  }
 ],
 "metadata": {
  "kernelspec": {
   "display_name": "Python 3",
   "language": "python",
   "name": "python3"
  },
  "language_info": {
   "codemirror_mode": {
    "name": "ipython",
    "version": 3
   },
   "file_extension": ".py",
   "mimetype": "text/x-python",
   "name": "python",
   "nbconvert_exporter": "python",
   "pygments_lexer": "ipython3",
   "version": "3.10.6"
  },
  "orig_nbformat": 4,
  "vscode": {
   "interpreter": {
    "hash": "31f2aee4e71d21fbe5cf8b01ff0e069b9275f58929596ceb00d14d90e3e16cd6"
   }
  }
 },
 "nbformat": 4,
 "nbformat_minor": 2
}
