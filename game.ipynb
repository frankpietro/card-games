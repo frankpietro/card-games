{
 "cells": [
  {
   "cell_type": "code",
   "execution_count": 1,
   "metadata": {},
   "outputs": [],
   "source": [
    "import random\n",
    "\n",
    "from card import Card, TressetteDeck, StatefulCard\n",
    "from tressette import Tressette\n",
    "from player import Player\n",
    "\n",
    "import constants as c\n",
    "import utilities as u"
   ]
  },
  {
   "attachments": {},
   "cell_type": "markdown",
   "metadata": {},
   "source": [
    "## Simulation of hand"
   ]
  },
  {
   "cell_type": "code",
   "execution_count": 3,
   "metadata": {},
   "outputs": [
    {
     "name": "stdout",
     "output_type": "stream",
     "text": [
      "4d 2h 4s Qd Kd 7s 7d 3h 3c Js Qh As Kc 5d Jh 6s Ah Jc 2s 6h 4h 5h 6h 7h Jh Qh Kh Ah 2h 3h 4d 5d 6d 7d Jd Qd Kd Ad 2d 3d 4c 5c 6c 7c Jc Qc Kc Ac 2c 3c 4s 5s 6s 7s Js Qs Ks As 2s 3s \n",
      "3s Qc Ac 2c Ah Kd 2s 6s Jd 2h Qd 6h Kc 2s 3h 6s 7s 4h 3c Qs 7c Jh Ks 5d Qh 3h Kc 5h 5s 7d 6c Js 7h As Ad 6d Ah Qd Jh Kd 4s 7s Jc Js 2h 4d 2d 4c Kh 3d Jc As 7d 4s 4d 5c Qh 5d 6h 3c \n",
      "Player X drew 3c\n",
      "Player GT drew 6h\n",
      "3s Qc Ac 2c Ah Kd 2s 6s Jd 2h Qd 6h Kc 2s 3h 6s 7s 4h 3c Qs 7c Jh Ks 5d Qh 3h Kc 5h 5s 7d 6c Js 7h As Ad 6d Ah Qd Jh Kd 4s 7s Jc Js 2h 4d 2d 4c Kh 3d Jc As 7d 4s 4d 5c Qh 5d \n",
      "Player X drew 5d\n",
      "Player GT drew Qh\n",
      "3s Qc Ac 2c Ah Kd 2s 6s Jd 2h Qd 6h Kc 2s 3h 6s 7s 4h 3c Qs 7c Jh Ks 5d Qh 3h Kc 5h 5s 7d 6c Js 7h As Ad 6d Ah Qd Jh Kd 4s 7s Jc Js 2h 4d 2d 4c Kh 3d Jc As 7d 4s 4d 5c \n",
      "Player X drew 5c\n",
      "Player GT drew 4d\n",
      "3s Qc Ac 2c Ah Kd 2s 6s Jd 2h Qd 6h Kc 2s 3h 6s 7s 4h 3c Qs 7c Jh Ks 5d Qh 3h Kc 5h 5s 7d 6c Js 7h As Ad 6d Ah Qd Jh Kd 4s 7s Jc Js 2h 4d 2d 4c Kh 3d Jc As 7d 4s \n",
      "Player X drew 4s\n",
      "Player GT drew 7d\n",
      "3s Qc Ac 2c Ah Kd 2s 6s Jd 2h Qd 6h Kc 2s 3h 6s 7s 4h 3c Qs 7c Jh Ks 5d Qh 3h Kc 5h 5s 7d 6c Js 7h As Ad 6d Ah Qd Jh Kd 4s 7s Jc Js 2h 4d 2d 4c Kh 3d Jc As \n",
      "Player X drew As\n",
      "Player GT drew Jc\n",
      "3s Qc Ac 2c Ah Kd 2s 6s Jd 2h Qd 6h Kc 2s 3h 6s 7s 4h 3c Qs 7c Jh Ks 5d Qh 3h Kc 5h 5s 7d 6c Js 7h As Ad 6d Ah Qd Jh Kd 4s 7s Jc Js 2h 4d 2d 4c Kh 3d \n",
      "Player X drew 3d\n",
      "Player GT drew Kh\n",
      "3s Qc Ac 2c Ah Kd 2s 6s Jd 2h Qd 6h Kc 2s 3h 6s 7s 4h 3c Qs 7c Jh Ks 5d Qh 3h Kc 5h 5s 7d 6c Js 7h As Ad 6d Ah Qd Jh Kd 4s 7s Jc Js 2h 4d 2d 4c \n",
      "Player X drew 4c\n",
      "Player GT drew 2d\n",
      "3s Qc Ac 2c Ah Kd 2s 6s Jd 2h Qd 6h Kc 2s 3h 6s 7s 4h 3c Qs 7c Jh Ks 5d Qh 3h Kc 5h 5s 7d 6c Js 7h As Ad 6d Ah Qd Jh Kd 4s 7s Jc Js 2h 4d \n",
      "Player X drew 4d\n",
      "Player GT drew 2h\n",
      "3s Qc Ac 2c Ah Kd 2s 6s Jd 2h Qd 6h Kc 2s 3h 6s 7s 4h 3c Qs 7c Jh Ks 5d Qh 3h Kc 5h 5s 7d 6c Js 7h As Ad 6d Ah Qd Jh Kd 4s 7s Jc Js \n",
      "Player X drew Js\n",
      "Player GT drew Jc\n",
      "3s Qc Ac 2c Ah Kd 2s 6s Jd 2h Qd 6h Kc 2s 3h 6s 7s 4h 3c Qs 7c Jh Ks 5d Qh 3h Kc 5h 5s 7d 6c Js 7h As Ad 6d Ah Qd Jh Kd 4s 7s \n",
      "Player X drew 7s\n",
      "Player GT drew 4s\n"
     ]
    }
   ],
   "source": [
    "# initialize game\\\n",
    "t = Tressette()\n",
    "\n",
    "p1 = t.players[0]\n",
    "p2 = t.players[1]\n",
    "\n",
    "t.deck.create_deck()\n",
    "t.deck.show_deck()\n",
    "t.deck.shuffle()\n",
    "\n",
    "for i in range(10):\n",
    "    t.deck.show_deck()\n",
    "    t.draw()"
   ]
  },
  {
   "cell_type": "code",
   "execution_count": 4,
   "metadata": {},
   "outputs": [],
   "source": [
    "# c1 = Card(\"3\", c.SPADES)\n",
    "# c2 = Card(\"2\", c.SPADES)\n",
    "# c3 = Card(\"A\", c.SPADES)\n",
    "# c4 = Card(\"K\", c.SPADES)\n",
    "# c5 = Card(\"Q\", c.SPADES)\n",
    "# c6 = Card(\"J\", c.SPADES)\n",
    "# c7 = Card(\"7\", c.SPADES)\n",
    "# c8 = Card(\"6\", c.SPADES)\n",
    "# c9 = Card(\"5\", c.SPADES)\n",
    "# c10 = Card(\"4\", c.SPADES)\n",
    "# c11 = Card(\"3\", c.HEARTS)\n",
    "# c12 = Card(\"2\", c.HEARTS)\n",
    "# c13 = Card(\"A\", c.HEARTS)\n",
    "# c14 = Card(\"K\", c.HEARTS)\n",
    "# c15 = Card(\"Q\", c.HEARTS)\n",
    "# c16 = Card(\"J\", c.HEARTS)\n",
    "# c17 = Card(\"7\", c.HEARTS)\n",
    "# c18 = Card(\"6\", c.HEARTS)\n",
    "# c19 = Card(\"5\", c.HEARTS)\n",
    "# c20 = Card(\"4\", c.HEARTS)\n",
    "\n",
    "\n",
    "# cards = [c1, c2, c3, c4, c5, c6, c7, c8, c9, c10, c11, c12, c13, c14, c15, c16, c17, c18, c19, c20]\n",
    "\n",
    "# random.shuffle(cards)\n",
    "\n",
    "# for card in cards[::-2]:\n",
    "#     p1.receive_card(card)\n",
    "#     p2.add_opponent_card(card)\n",
    "\n",
    "# for card in cards[::2]:\n",
    "#     p2.receive_card(card)\n",
    "#     p1.add_opponent_card(card)"
   ]
  },
  {
   "cell_type": "code",
   "execution_count": 8,
   "metadata": {},
   "outputs": [
    {
     "name": "stdout",
     "output_type": "stream",
     "text": [
      "X hand: [Ah, 4d, Kd, 2d, 6c, 6c, 7c, 2c, 6s, Qs]\n",
      "GT hand: [Ah, 2h, 3h, 6d, 7d, Qd, Kd, 7c, Qc, 4s]\n"
     ]
    },
    {
     "ename": "KeyboardInterrupt",
     "evalue": "",
     "output_type": "error",
     "traceback": [
      "\u001b[0;31m---------------------------------------------------------------------------\u001b[0m",
      "\u001b[0;31mKeyboardInterrupt\u001b[0m                         Traceback (most recent call last)",
      "\u001b[1;32m/home/frankp/fun/card-games/game.ipynb Cell 5\u001b[0m in \u001b[0;36m<cell line: 5>\u001b[0;34m()\u001b[0m\n\u001b[1;32m      <a href='vscode-notebook-cell:/home/frankp/fun/card-games/game.ipynb#X40sZmlsZQ%3D%3D?line=1'>2</a>\u001b[0m \u001b[39mprint\u001b[39m(\u001b[39mf\u001b[39m\u001b[39m\"\u001b[39m\u001b[39m{\u001b[39;00mp2\u001b[39m.\u001b[39mname\u001b[39m}\u001b[39;00m\u001b[39m hand: \u001b[39m\u001b[39m{\u001b[39;00mp2\u001b[39m.\u001b[39mhand\u001b[39m}\u001b[39;00m\u001b[39m\"\u001b[39m)\n\u001b[1;32m      <a href='vscode-notebook-cell:/home/frankp/fun/card-games/game.ipynb#X40sZmlsZQ%3D%3D?line=3'>4</a>\u001b[0m u\u001b[39m.\u001b[39mcreate_dir_if_not_exists(c\u001b[39m.\u001b[39mTEMP_DIR)\n\u001b[0;32m----> <a href='vscode-notebook-cell:/home/frankp/fun/card-games/game.ipynb#X40sZmlsZQ%3D%3D?line=4'>5</a>\u001b[0m scores, sequence \u001b[39m=\u001b[39m t\u001b[39m.\u001b[39;49mrun(p1\u001b[39m.\u001b[39;49mhand\u001b[39m.\u001b[39;49mcopy(), p2\u001b[39m.\u001b[39;49mhand\u001b[39m.\u001b[39;49mcopy(), \u001b[39m0\u001b[39;49m, \u001b[39m0\u001b[39;49m)\n\u001b[1;32m      <a href='vscode-notebook-cell:/home/frankp/fun/card-games/game.ipynb#X40sZmlsZQ%3D%3D?line=5'>6</a>\u001b[0m u\u001b[39m.\u001b[39mremove_dir(c\u001b[39m.\u001b[39mTEMP_DIR)\n\u001b[1;32m      <a href='vscode-notebook-cell:/home/frankp/fun/card-games/game.ipynb#X40sZmlsZQ%3D%3D?line=7'>8</a>\u001b[0m \u001b[39mprint\u001b[39m(\u001b[39mf\u001b[39m\u001b[39m\"\u001b[39m\u001b[39m{\u001b[39;00mp1\u001b[39m.\u001b[39mname\u001b[39m}\u001b[39;00m\u001b[39m score: \u001b[39m\u001b[39m{\u001b[39;00mu\u001b[39m.\u001b[39mfraction_of_3(scores[\u001b[39m0\u001b[39m])\u001b[39m}\u001b[39;00m\u001b[39m\"\u001b[39m)\n",
      "File \u001b[0;32m~/fun/card-games/tressette.py:136\u001b[0m, in \u001b[0;36mTressette.run\u001b[0;34m(self, p1_hand, p2_hand, p1_score, p2_score, tabled_card, verbose)\u001b[0m\n\u001b[1;32m    133\u001b[0m     \u001b[39mprint\u001b[39m(\u001b[39mf\u001b[39m\u001b[39m\"\u001b[39m\u001b[39mPlaying \u001b[39m\u001b[39m{\u001b[39;00mcard\u001b[39m}\u001b[39;00m\u001b[39m\"\u001b[39m)\n\u001b[1;32m    135\u001b[0m p1_copy\u001b[39m.\u001b[39mremove(card)\n\u001b[0;32m--> 136\u001b[0m scores, sequence \u001b[39m=\u001b[39m \u001b[39mself\u001b[39;49m\u001b[39m.\u001b[39;49mrun(p1_copy, p2_copy, p1_score_copy, p2_score_copy, card, verbose)\n\u001b[1;32m    138\u001b[0m \u001b[39mif\u001b[39;00m scores[\u001b[39m0\u001b[39m] \u001b[39m>\u001b[39m best_scores[\u001b[39m0\u001b[39m]:\n\u001b[1;32m    139\u001b[0m     \u001b[39m# if verbose:\u001b[39;00m\n\u001b[1;32m    140\u001b[0m     \u001b[39m#     print(f\"New best scores: {scores} with card {card}\")\u001b[39;00m\n\u001b[1;32m    141\u001b[0m     \u001b[39m#     print(f\"Previous best scores: {best_scores} with card {best_sequence}\")\u001b[39;00m\n\u001b[1;32m    142\u001b[0m     best_scores \u001b[39m=\u001b[39m scores\n",
      "File \u001b[0;32m~/fun/card-games/tressette.py:202\u001b[0m, in \u001b[0;36mTressette.run\u001b[0;34m(self, p1_hand, p2_hand, p1_score, p2_score, tabled_card, verbose)\u001b[0m\n\u001b[1;32m    200\u001b[0m     scores, sequence \u001b[39m=\u001b[39m \u001b[39mself\u001b[39m\u001b[39m.\u001b[39mrun(p1_copy, p2_copy, p1_score_copy, p2_score_copy, verbose\u001b[39m=\u001b[39mverbose)\n\u001b[1;32m    201\u001b[0m \u001b[39melse\u001b[39;00m:\n\u001b[0;32m--> 202\u001b[0m     scores, sequence \u001b[39m=\u001b[39m \u001b[39mself\u001b[39;49m\u001b[39m.\u001b[39;49mrun(p2_copy, p1_copy, p2_score_copy, p1_score_copy, verbose\u001b[39m=\u001b[39;49mverbose)\n\u001b[1;32m    203\u001b[0m     \u001b[39m# invert scores\u001b[39;00m\n\u001b[1;32m    204\u001b[0m     scores \u001b[39m=\u001b[39m [scores[\u001b[39m1\u001b[39m], scores[\u001b[39m0\u001b[39m]]\n",
      "File \u001b[0;32m~/fun/card-games/tressette.py:136\u001b[0m, in \u001b[0;36mTressette.run\u001b[0;34m(self, p1_hand, p2_hand, p1_score, p2_score, tabled_card, verbose)\u001b[0m\n\u001b[1;32m    133\u001b[0m     \u001b[39mprint\u001b[39m(\u001b[39mf\u001b[39m\u001b[39m\"\u001b[39m\u001b[39mPlaying \u001b[39m\u001b[39m{\u001b[39;00mcard\u001b[39m}\u001b[39;00m\u001b[39m\"\u001b[39m)\n\u001b[1;32m    135\u001b[0m p1_copy\u001b[39m.\u001b[39mremove(card)\n\u001b[0;32m--> 136\u001b[0m scores, sequence \u001b[39m=\u001b[39m \u001b[39mself\u001b[39;49m\u001b[39m.\u001b[39;49mrun(p1_copy, p2_copy, p1_score_copy, p2_score_copy, card, verbose)\n\u001b[1;32m    138\u001b[0m \u001b[39mif\u001b[39;00m scores[\u001b[39m0\u001b[39m] \u001b[39m>\u001b[39m best_scores[\u001b[39m0\u001b[39m]:\n\u001b[1;32m    139\u001b[0m     \u001b[39m# if verbose:\u001b[39;00m\n\u001b[1;32m    140\u001b[0m     \u001b[39m#     print(f\"New best scores: {scores} with card {card}\")\u001b[39;00m\n\u001b[1;32m    141\u001b[0m     \u001b[39m#     print(f\"Previous best scores: {best_scores} with card {best_sequence}\")\u001b[39;00m\n\u001b[1;32m    142\u001b[0m     best_scores \u001b[39m=\u001b[39m scores\n",
      "File \u001b[0;32m~/fun/card-games/tressette.py:200\u001b[0m, in \u001b[0;36mTressette.run\u001b[0;34m(self, p1_hand, p2_hand, p1_score, p2_score, tabled_card, verbose)\u001b[0m\n\u001b[1;32m    197\u001b[0m     \u001b[39mreturn\u001b[39;00m [p1_score_copy, p2_score_copy], [card]\n\u001b[1;32m    199\u001b[0m \u001b[39mif\u001b[39;00m winning_card \u001b[39m!=\u001b[39m card:\n\u001b[0;32m--> 200\u001b[0m     scores, sequence \u001b[39m=\u001b[39m \u001b[39mself\u001b[39;49m\u001b[39m.\u001b[39;49mrun(p1_copy, p2_copy, p1_score_copy, p2_score_copy, verbose\u001b[39m=\u001b[39;49mverbose)\n\u001b[1;32m    201\u001b[0m \u001b[39melse\u001b[39;00m:\n\u001b[1;32m    202\u001b[0m     scores, sequence \u001b[39m=\u001b[39m \u001b[39mself\u001b[39m\u001b[39m.\u001b[39mrun(p2_copy, p1_copy, p2_score_copy, p1_score_copy, verbose\u001b[39m=\u001b[39mverbose)\n",
      "File \u001b[0;32m~/fun/card-games/tressette.py:136\u001b[0m, in \u001b[0;36mTressette.run\u001b[0;34m(self, p1_hand, p2_hand, p1_score, p2_score, tabled_card, verbose)\u001b[0m\n\u001b[1;32m    133\u001b[0m     \u001b[39mprint\u001b[39m(\u001b[39mf\u001b[39m\u001b[39m\"\u001b[39m\u001b[39mPlaying \u001b[39m\u001b[39m{\u001b[39;00mcard\u001b[39m}\u001b[39;00m\u001b[39m\"\u001b[39m)\n\u001b[1;32m    135\u001b[0m p1_copy\u001b[39m.\u001b[39mremove(card)\n\u001b[0;32m--> 136\u001b[0m scores, sequence \u001b[39m=\u001b[39m \u001b[39mself\u001b[39;49m\u001b[39m.\u001b[39;49mrun(p1_copy, p2_copy, p1_score_copy, p2_score_copy, card, verbose)\n\u001b[1;32m    138\u001b[0m \u001b[39mif\u001b[39;00m scores[\u001b[39m0\u001b[39m] \u001b[39m>\u001b[39m best_scores[\u001b[39m0\u001b[39m]:\n\u001b[1;32m    139\u001b[0m     \u001b[39m# if verbose:\u001b[39;00m\n\u001b[1;32m    140\u001b[0m     \u001b[39m#     print(f\"New best scores: {scores} with card {card}\")\u001b[39;00m\n\u001b[1;32m    141\u001b[0m     \u001b[39m#     print(f\"Previous best scores: {best_scores} with card {best_sequence}\")\u001b[39;00m\n\u001b[1;32m    142\u001b[0m     best_scores \u001b[39m=\u001b[39m scores\n",
      "File \u001b[0;32m~/fun/card-games/tressette.py:202\u001b[0m, in \u001b[0;36mTressette.run\u001b[0;34m(self, p1_hand, p2_hand, p1_score, p2_score, tabled_card, verbose)\u001b[0m\n\u001b[1;32m    200\u001b[0m     scores, sequence \u001b[39m=\u001b[39m \u001b[39mself\u001b[39m\u001b[39m.\u001b[39mrun(p1_copy, p2_copy, p1_score_copy, p2_score_copy, verbose\u001b[39m=\u001b[39mverbose)\n\u001b[1;32m    201\u001b[0m \u001b[39melse\u001b[39;00m:\n\u001b[0;32m--> 202\u001b[0m     scores, sequence \u001b[39m=\u001b[39m \u001b[39mself\u001b[39;49m\u001b[39m.\u001b[39;49mrun(p2_copy, p1_copy, p2_score_copy, p1_score_copy, verbose\u001b[39m=\u001b[39;49mverbose)\n\u001b[1;32m    203\u001b[0m     \u001b[39m# invert scores\u001b[39;00m\n\u001b[1;32m    204\u001b[0m     scores \u001b[39m=\u001b[39m [scores[\u001b[39m1\u001b[39m], scores[\u001b[39m0\u001b[39m]]\n",
      "File \u001b[0;32m~/fun/card-games/tressette.py:136\u001b[0m, in \u001b[0;36mTressette.run\u001b[0;34m(self, p1_hand, p2_hand, p1_score, p2_score, tabled_card, verbose)\u001b[0m\n\u001b[1;32m    133\u001b[0m     \u001b[39mprint\u001b[39m(\u001b[39mf\u001b[39m\u001b[39m\"\u001b[39m\u001b[39mPlaying \u001b[39m\u001b[39m{\u001b[39;00mcard\u001b[39m}\u001b[39;00m\u001b[39m\"\u001b[39m)\n\u001b[1;32m    135\u001b[0m p1_copy\u001b[39m.\u001b[39mremove(card)\n\u001b[0;32m--> 136\u001b[0m scores, sequence \u001b[39m=\u001b[39m \u001b[39mself\u001b[39;49m\u001b[39m.\u001b[39;49mrun(p1_copy, p2_copy, p1_score_copy, p2_score_copy, card, verbose)\n\u001b[1;32m    138\u001b[0m \u001b[39mif\u001b[39;00m scores[\u001b[39m0\u001b[39m] \u001b[39m>\u001b[39m best_scores[\u001b[39m0\u001b[39m]:\n\u001b[1;32m    139\u001b[0m     \u001b[39m# if verbose:\u001b[39;00m\n\u001b[1;32m    140\u001b[0m     \u001b[39m#     print(f\"New best scores: {scores} with card {card}\")\u001b[39;00m\n\u001b[1;32m    141\u001b[0m     \u001b[39m#     print(f\"Previous best scores: {best_scores} with card {best_sequence}\")\u001b[39;00m\n\u001b[1;32m    142\u001b[0m     best_scores \u001b[39m=\u001b[39m scores\n",
      "File \u001b[0;32m~/fun/card-games/tressette.py:200\u001b[0m, in \u001b[0;36mTressette.run\u001b[0;34m(self, p1_hand, p2_hand, p1_score, p2_score, tabled_card, verbose)\u001b[0m\n\u001b[1;32m    197\u001b[0m     \u001b[39mreturn\u001b[39;00m [p1_score_copy, p2_score_copy], [card]\n\u001b[1;32m    199\u001b[0m \u001b[39mif\u001b[39;00m winning_card \u001b[39m!=\u001b[39m card:\n\u001b[0;32m--> 200\u001b[0m     scores, sequence \u001b[39m=\u001b[39m \u001b[39mself\u001b[39;49m\u001b[39m.\u001b[39;49mrun(p1_copy, p2_copy, p1_score_copy, p2_score_copy, verbose\u001b[39m=\u001b[39;49mverbose)\n\u001b[1;32m    201\u001b[0m \u001b[39melse\u001b[39;00m:\n\u001b[1;32m    202\u001b[0m     scores, sequence \u001b[39m=\u001b[39m \u001b[39mself\u001b[39m\u001b[39m.\u001b[39mrun(p2_copy, p1_copy, p2_score_copy, p1_score_copy, verbose\u001b[39m=\u001b[39mverbose)\n",
      "File \u001b[0;32m~/fun/card-games/tressette.py:136\u001b[0m, in \u001b[0;36mTressette.run\u001b[0;34m(self, p1_hand, p2_hand, p1_score, p2_score, tabled_card, verbose)\u001b[0m\n\u001b[1;32m    133\u001b[0m     \u001b[39mprint\u001b[39m(\u001b[39mf\u001b[39m\u001b[39m\"\u001b[39m\u001b[39mPlaying \u001b[39m\u001b[39m{\u001b[39;00mcard\u001b[39m}\u001b[39;00m\u001b[39m\"\u001b[39m)\n\u001b[1;32m    135\u001b[0m p1_copy\u001b[39m.\u001b[39mremove(card)\n\u001b[0;32m--> 136\u001b[0m scores, sequence \u001b[39m=\u001b[39m \u001b[39mself\u001b[39;49m\u001b[39m.\u001b[39;49mrun(p1_copy, p2_copy, p1_score_copy, p2_score_copy, card, verbose)\n\u001b[1;32m    138\u001b[0m \u001b[39mif\u001b[39;00m scores[\u001b[39m0\u001b[39m] \u001b[39m>\u001b[39m best_scores[\u001b[39m0\u001b[39m]:\n\u001b[1;32m    139\u001b[0m     \u001b[39m# if verbose:\u001b[39;00m\n\u001b[1;32m    140\u001b[0m     \u001b[39m#     print(f\"New best scores: {scores} with card {card}\")\u001b[39;00m\n\u001b[1;32m    141\u001b[0m     \u001b[39m#     print(f\"Previous best scores: {best_scores} with card {best_sequence}\")\u001b[39;00m\n\u001b[1;32m    142\u001b[0m     best_scores \u001b[39m=\u001b[39m scores\n",
      "File \u001b[0;32m~/fun/card-games/tressette.py:202\u001b[0m, in \u001b[0;36mTressette.run\u001b[0;34m(self, p1_hand, p2_hand, p1_score, p2_score, tabled_card, verbose)\u001b[0m\n\u001b[1;32m    200\u001b[0m     scores, sequence \u001b[39m=\u001b[39m \u001b[39mself\u001b[39m\u001b[39m.\u001b[39mrun(p1_copy, p2_copy, p1_score_copy, p2_score_copy, verbose\u001b[39m=\u001b[39mverbose)\n\u001b[1;32m    201\u001b[0m \u001b[39melse\u001b[39;00m:\n\u001b[0;32m--> 202\u001b[0m     scores, sequence \u001b[39m=\u001b[39m \u001b[39mself\u001b[39;49m\u001b[39m.\u001b[39;49mrun(p2_copy, p1_copy, p2_score_copy, p1_score_copy, verbose\u001b[39m=\u001b[39;49mverbose)\n\u001b[1;32m    203\u001b[0m     \u001b[39m# invert scores\u001b[39;00m\n\u001b[1;32m    204\u001b[0m     scores \u001b[39m=\u001b[39m [scores[\u001b[39m1\u001b[39m], scores[\u001b[39m0\u001b[39m]]\n",
      "File \u001b[0;32m~/fun/card-games/tressette.py:136\u001b[0m, in \u001b[0;36mTressette.run\u001b[0;34m(self, p1_hand, p2_hand, p1_score, p2_score, tabled_card, verbose)\u001b[0m\n\u001b[1;32m    133\u001b[0m     \u001b[39mprint\u001b[39m(\u001b[39mf\u001b[39m\u001b[39m\"\u001b[39m\u001b[39mPlaying \u001b[39m\u001b[39m{\u001b[39;00mcard\u001b[39m}\u001b[39;00m\u001b[39m\"\u001b[39m)\n\u001b[1;32m    135\u001b[0m p1_copy\u001b[39m.\u001b[39mremove(card)\n\u001b[0;32m--> 136\u001b[0m scores, sequence \u001b[39m=\u001b[39m \u001b[39mself\u001b[39;49m\u001b[39m.\u001b[39;49mrun(p1_copy, p2_copy, p1_score_copy, p2_score_copy, card, verbose)\n\u001b[1;32m    138\u001b[0m \u001b[39mif\u001b[39;00m scores[\u001b[39m0\u001b[39m] \u001b[39m>\u001b[39m best_scores[\u001b[39m0\u001b[39m]:\n\u001b[1;32m    139\u001b[0m     \u001b[39m# if verbose:\u001b[39;00m\n\u001b[1;32m    140\u001b[0m     \u001b[39m#     print(f\"New best scores: {scores} with card {card}\")\u001b[39;00m\n\u001b[1;32m    141\u001b[0m     \u001b[39m#     print(f\"Previous best scores: {best_scores} with card {best_sequence}\")\u001b[39;00m\n\u001b[1;32m    142\u001b[0m     best_scores \u001b[39m=\u001b[39m scores\n",
      "File \u001b[0;32m~/fun/card-games/tressette.py:202\u001b[0m, in \u001b[0;36mTressette.run\u001b[0;34m(self, p1_hand, p2_hand, p1_score, p2_score, tabled_card, verbose)\u001b[0m\n\u001b[1;32m    200\u001b[0m     scores, sequence \u001b[39m=\u001b[39m \u001b[39mself\u001b[39m\u001b[39m.\u001b[39mrun(p1_copy, p2_copy, p1_score_copy, p2_score_copy, verbose\u001b[39m=\u001b[39mverbose)\n\u001b[1;32m    201\u001b[0m \u001b[39melse\u001b[39;00m:\n\u001b[0;32m--> 202\u001b[0m     scores, sequence \u001b[39m=\u001b[39m \u001b[39mself\u001b[39;49m\u001b[39m.\u001b[39;49mrun(p2_copy, p1_copy, p2_score_copy, p1_score_copy, verbose\u001b[39m=\u001b[39;49mverbose)\n\u001b[1;32m    203\u001b[0m     \u001b[39m# invert scores\u001b[39;00m\n\u001b[1;32m    204\u001b[0m     scores \u001b[39m=\u001b[39m [scores[\u001b[39m1\u001b[39m], scores[\u001b[39m0\u001b[39m]]\n",
      "    \u001b[0;31m[... skipping similar frames: Tressette.run at line 136 (1 times)]\u001b[0m\n",
      "File \u001b[0;32m~/fun/card-games/tressette.py:202\u001b[0m, in \u001b[0;36mTressette.run\u001b[0;34m(self, p1_hand, p2_hand, p1_score, p2_score, tabled_card, verbose)\u001b[0m\n\u001b[1;32m    200\u001b[0m     scores, sequence \u001b[39m=\u001b[39m \u001b[39mself\u001b[39m\u001b[39m.\u001b[39mrun(p1_copy, p2_copy, p1_score_copy, p2_score_copy, verbose\u001b[39m=\u001b[39mverbose)\n\u001b[1;32m    201\u001b[0m \u001b[39melse\u001b[39;00m:\n\u001b[0;32m--> 202\u001b[0m     scores, sequence \u001b[39m=\u001b[39m \u001b[39mself\u001b[39;49m\u001b[39m.\u001b[39;49mrun(p2_copy, p1_copy, p2_score_copy, p1_score_copy, verbose\u001b[39m=\u001b[39;49mverbose)\n\u001b[1;32m    203\u001b[0m     \u001b[39m# invert scores\u001b[39;00m\n\u001b[1;32m    204\u001b[0m     scores \u001b[39m=\u001b[39m [scores[\u001b[39m1\u001b[39m], scores[\u001b[39m0\u001b[39m]]\n",
      "File \u001b[0;32m~/fun/card-games/tressette.py:136\u001b[0m, in \u001b[0;36mTressette.run\u001b[0;34m(self, p1_hand, p2_hand, p1_score, p2_score, tabled_card, verbose)\u001b[0m\n\u001b[1;32m    133\u001b[0m     \u001b[39mprint\u001b[39m(\u001b[39mf\u001b[39m\u001b[39m\"\u001b[39m\u001b[39mPlaying \u001b[39m\u001b[39m{\u001b[39;00mcard\u001b[39m}\u001b[39;00m\u001b[39m\"\u001b[39m)\n\u001b[1;32m    135\u001b[0m p1_copy\u001b[39m.\u001b[39mremove(card)\n\u001b[0;32m--> 136\u001b[0m scores, sequence \u001b[39m=\u001b[39m \u001b[39mself\u001b[39;49m\u001b[39m.\u001b[39;49mrun(p1_copy, p2_copy, p1_score_copy, p2_score_copy, card, verbose)\n\u001b[1;32m    138\u001b[0m \u001b[39mif\u001b[39;00m scores[\u001b[39m0\u001b[39m] \u001b[39m>\u001b[39m best_scores[\u001b[39m0\u001b[39m]:\n\u001b[1;32m    139\u001b[0m     \u001b[39m# if verbose:\u001b[39;00m\n\u001b[1;32m    140\u001b[0m     \u001b[39m#     print(f\"New best scores: {scores} with card {card}\")\u001b[39;00m\n\u001b[1;32m    141\u001b[0m     \u001b[39m#     print(f\"Previous best scores: {best_scores} with card {best_sequence}\")\u001b[39;00m\n\u001b[1;32m    142\u001b[0m     best_scores \u001b[39m=\u001b[39m scores\n",
      "File \u001b[0;32m~/fun/card-games/tressette.py:215\u001b[0m, in \u001b[0;36mTressette.run\u001b[0;34m(self, p1_hand, p2_hand, p1_score, p2_score, tabled_card, verbose)\u001b[0m\n\u001b[1;32m    212\u001b[0m             best_sequence\u001b[39m.\u001b[39minsert(\u001b[39m0\u001b[39m, card)\n\u001b[1;32m    214\u001b[0m \u001b[39mwith\u001b[39;00m \u001b[39mopen\u001b[39m(filename, \u001b[39m\"\u001b[39m\u001b[39mwb\u001b[39m\u001b[39m\"\u001b[39m) \u001b[39mas\u001b[39;00m f:\n\u001b[0;32m--> 215\u001b[0m     pkl\u001b[39m.\u001b[39;49mdump((best_scores, best_sequence), f)\n\u001b[1;32m    217\u001b[0m \u001b[39mreturn\u001b[39;00m best_scores, best_sequence\n",
      "\u001b[0;31mKeyboardInterrupt\u001b[0m: "
     ]
    }
   ],
   "source": [
    "print(f\"{p1.name} hand: {p1.hand}\")\n",
    "print(f\"{p2.name} hand: {p2.hand}\")\n",
    "\n",
    "u.create_dir_if_not_exists(c.TEMP_DIR)\n",
    "scores, sequence = t.run(p1.hand.copy(), p2.hand.copy(), 0, 0)\n",
    "u.remove_dir(c.TEMP_DIR)\n",
    "\n",
    "print(f\"{p1.name} score: {u.fraction_of_3(scores[0])}\")\n",
    "print(f\"{p2.name} score: {u.fraction_of_3(scores[1])}\")\n",
    "\n",
    "u.print_sequence(sequence)"
   ]
  },
  {
   "cell_type": "code",
   "execution_count": 5,
   "metadata": {},
   "outputs": [
    {
     "data": {
      "text/plain": [
       "[As, 6s, 2s, 3s, Ks, 7s, 4s, Js, 5s, Qs]"
      ]
     },
     "execution_count": 5,
     "metadata": {},
     "output_type": "execute_result"
    }
   ],
   "source": [
    "\n",
    "sequence"
   ]
  },
  {
   "attachments": {},
   "cell_type": "markdown",
   "metadata": {},
   "source": [
    "## Example of game"
   ]
  },
  {
   "cell_type": "code",
   "execution_count": 11,
   "metadata": {},
   "outputs": [],
   "source": [
    "# initialize game\n",
    "t = Tressette()\n",
    "\n",
    "# create deck\n",
    "t.deck.create_deck()\n"
   ]
  },
  {
   "cell_type": "code",
   "execution_count": 12,
   "metadata": {},
   "outputs": [
    {
     "name": "stdout",
     "output_type": "stream",
     "text": [
      "Jh Ac 3c 3h Kh Kc 4h Jd 7s 4s 2c Ad 4s 7h Qh Jc 6h Qd 6d 4d 6d Qs 5c Qc Jh Jh 7h 4c 5d 5h 2d As 5c Ad 6c Ac 5h 2h 3d 5s 4c 4h 2s 6h Ks Kc Kd 3s Ks 7d Jd Js 3d 2h 5s Ah 5s 7d Ad 6s 5h 5h 5d Jc 4d 3h Js 4h 2s 7h 3s 7d 6s Kh 2d Qd 7c 3d As 7h 4h 5h 6h 7h Jh Qh Kh Ah 2h 3h 4d 5d 6d 7d Jd Qd Kd Ad 2d 3d 4c 5c 6c 7c Jc Qc Kc Ac 2c 3c 4s 5s 6s 7s Js Qs Ks As 2s 3s \n"
     ]
    }
   ],
   "source": [
    "t.deck.show_deck()"
   ]
  },
  {
   "cell_type": "code",
   "execution_count": 7,
   "metadata": {},
   "outputs": [
    {
     "name": "stdout",
     "output_type": "stream",
     "text": [
      "Best sequence:\n",
      "5s       As    2s    Js    Ks \n",
      "   As 5s    Qs    4s    6s    \n"
     ]
    }
   ],
   "source": []
  },
  {
   "cell_type": "code",
   "execution_count": 9,
   "metadata": {},
   "outputs": [],
   "source": [
    "s = \"Jh Ac 3c 3h Kh Kc 4h Jd 7s 4s 2c Ad 4s 7h Qh Jc 6h Qd 6d 4d 6d Qs 5c Qc Jh Jh 7h 4c 5d 5h 2d As 5c Ad 6c Ac 5h 2h 3d 5s 4c 4h 2s 6h Ks Kc Kd 3s Ks 7d Jd Js 3d 2h 5s Ah 5s 7d Ad 6s 5h 5h 5d Jc 4d 3h Js 4h 2s 7h 3s 7d 6s Kh 2d Qd 7c 3d As 7h Ah 6c 4s 6c Qd 2c 3h Ah 6d 6s 7d 2d 2h Kd Kd 7c 7c Qs Qc 4d\""
   ]
  },
  {
   "cell_type": "code",
   "execution_count": 10,
   "metadata": {},
   "outputs": [
    {
     "data": {
      "text/plain": [
       "299"
      ]
     },
     "execution_count": 10,
     "metadata": {},
     "output_type": "execute_result"
    }
   ],
   "source": [
    "len(s)"
   ]
  }
 ],
 "metadata": {
  "kernelspec": {
   "display_name": "Python 3",
   "language": "python",
   "name": "python3"
  },
  "language_info": {
   "codemirror_mode": {
    "name": "ipython",
    "version": 3
   },
   "file_extension": ".py",
   "mimetype": "text/x-python",
   "name": "python",
   "nbconvert_exporter": "python",
   "pygments_lexer": "ipython3",
   "version": "3.10.6"
  },
  "orig_nbformat": 4,
  "vscode": {
   "interpreter": {
    "hash": "31f2aee4e71d21fbe5cf8b01ff0e069b9275f58929596ceb00d14d90e3e16cd6"
   }
  }
 },
 "nbformat": 4,
 "nbformat_minor": 2
}
